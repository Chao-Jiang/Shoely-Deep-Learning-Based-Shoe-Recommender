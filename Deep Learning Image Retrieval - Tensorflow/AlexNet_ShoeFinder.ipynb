{
 "cells": [
  {
   "cell_type": "code",
   "execution_count": 1,
   "metadata": {
    "collapsed": true
   },
   "outputs": [],
   "source": [
    "import random\n",
    "import tensorflow as tf\n",
    "import numpy as np\n",
    "import os\n",
    "from scipy import ndimage\n",
    "import matplotlib.pyplot as plt\n",
    "from sklearn.neighbors import NearestNeighbors\n",
    "\n",
    "%matplotlib inline"
   ]
  },
  {
   "cell_type": "code",
   "execution_count": 17,
   "metadata": {
    "collapsed": true
   },
   "outputs": [],
   "source": [
    "men=np.load('/home/ubuntu/Data/menPixel.npy')\n",
    "women=np.load('/home/ubuntu/Data/womenPixel.npy')\n",
    "pixel = np.concatenate((men,women),axis=3)"
   ]
  },
  {
   "cell_type": "code",
   "execution_count": 2,
   "metadata": {
    "collapsed": true
   },
   "outputs": [],
   "source": [
    "graph = tf.Graph()\n",
    "with graph.as_default():\n",
    "    importer = tf.train.import_meta_graph('alex_vars.meta')\n",
    "\n",
    "sess = tf.Session(graph=graph)\n",
    "importer.restore(sess, 'alex_vars')"
   ]
  },
  {
   "cell_type": "code",
   "execution_count": 3,
   "metadata": {
    "collapsed": true
   },
   "outputs": [],
   "source": [
    "# Get outputs from second-to-last layer in pre-built model\n",
    "fc7_op = graph.get_operation_by_name('fc7/relu')\n",
    "fc7 = fc7_op.outputs[0]\n",
    "x = graph.get_operation_by_name('input').outputs[0]\n",
    "init = graph.get_operation_by_name('init')\n",
    "\n",
    "sess = tf.Session(graph=graph)\n",
    "sess.run(init)"
   ]
  },
  {
   "cell_type": "code",
   "execution_count": 56,
   "metadata": {
    "collapsed": true
   },
   "outputs": [],
   "source": [
    "extracted_features=np.load('AlexNet_Color.npy')\n",
    "nbrs = NearestNeighbors(n_neighbors=10, algorithm='ball_tree').fit(extracted_features)"
   ]
  },
  {
   "cell_type": "code",
   "execution_count": 57,
   "metadata": {
    "collapsed": false
   },
   "outputs": [],
   "source": [
    "Names=['0_m.jpg', '1_m.jpg', '2_m.jpg', '3_m.jpg', '4_m.jpg', '5_m.jpg',\n",
    "       '6_m.jpg', '7_m.jpg', '8_m.jpg', '9_m.jpg']\n",
    "from PIL import Image\n",
    "fname = '/home/ubuntu/'+Names[9]\n",
    "img = Image.open(fname)\n"
   ]
  },
  {
   "cell_type": "code",
   "execution_count": 58,
   "metadata": {
    "collapsed": false
   },
   "outputs": [],
   "source": [
    "Image=np.zeros((120,120,3,1))\n",
    "Image[:,:,:,0]=img\n",
    "feature_image = sess.run(fc7, feed_dict={x: [Image[:,:,:,0]]})\n"
   ]
  },
  {
   "cell_type": "code",
   "execution_count": 59,
   "metadata": {
    "collapsed": false
   },
   "outputs": [
    {
     "data": {
      "text/plain": [
       "array([[16413, 25114,  4781,  9500,  9497, 19506, 32616, 20489, 27071,\n",
       "        31402]])"
      ]
     },
     "execution_count": 59,
     "metadata": {},
     "output_type": "execute_result"
    }
   ],
   "source": [
    "distances, indices = nbrs.kneighbors(feature_image)\n",
    "indices"
   ]
  },
  {
   "cell_type": "code",
   "execution_count": 60,
   "metadata": {
    "collapsed": false
   },
   "outputs": [
    {
     "data": {
      "image/png": "[encoded data removed]",
      "text/plain": [
       "<matplotlib.figure.Figure at 0x7fe56bb49b50>"
      ]
     },
     "metadata": {},
     "output_type": "display_data"
    }
   ],
   "source": [
    "combined=[np.concatenate([pixel[:,:,:,i] for i in indices[0]],axis=1)]\n",
    "plt.imshow(combined[0].astype('uint8'))\n",
    "plt.axis('off')\n",
    "plt.show()"
   ]
  },
  {
   "cell_type": "code",
   "execution_count": null,
   "metadata": {
    "collapsed": true
   },
   "outputs": [],
   "source": []
  }
 ],
 "metadata": {
  "kernelspec": {
   "display_name": "Python 2",
   "language": "python",
   "name": "python2"
  },
  "language_info": {
   "codemirror_mode": {
    "name": "ipython",
    "version": 2
   },
   "file_extension": ".py",
   "mimetype": "text/x-python",
   "name": "python",
   "nbconvert_exporter": "python",
   "pygments_lexer": "ipython2",
   "version": "2.7.6"
  }
 },
 "nbformat": 4,
 "nbformat_minor": 1
}
