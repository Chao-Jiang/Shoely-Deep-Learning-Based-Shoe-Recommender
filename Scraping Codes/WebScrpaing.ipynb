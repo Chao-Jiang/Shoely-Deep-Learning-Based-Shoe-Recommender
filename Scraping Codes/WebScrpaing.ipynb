{
 "cells": [
  {
   "cell_type": "markdown",
   "metadata": {},
   "source": [
    "### Shoe Image Collection"
   ]
  },
  {
   "cell_type": "markdown",
   "metadata": {
    "collapsed": true
   },
   "source": [
    "##### Onlineshoes.com"
   ]
  },
  {
   "cell_type": "markdown",
   "metadata": {},
   "source": [
    "Code to write out an image that using urllib "
   ]
  },
  {
   "cell_type": "code",
   "execution_count": 1,
   "metadata": {
    "collapsed": false
   },
   "outputs": [],
   "source": [
    "import urllib\n",
    "from scipy import misc\n",
    "import numpy as np\n",
    "resource=urllib.urlopen('http://s2.onlineshoes.com/images/br005/27957_120_45.jpg')\n",
    "output=open(\"Shoe.jpg\",\"wb\")\n",
    "output.write(resource.read())\n",
    "output.close()\n",
    "f = misc.face()\n",
    "f = misc.imread('Shoe.jpg')\n",
    "! rm 'Shoe.jpg'"
   ]
  },
  {
   "cell_type": "code",
   "execution_count": 3,
   "metadata": {
    "collapsed": false
   },
   "outputs": [],
   "source": [
    "from bs4 import BeautifulSoup\n",
    "import pandas as pd\n",
    "import numpy as np\n",
    "from scipy import misc\n",
    "import requests\n",
    "import urllib\n",
    "\n",
    "\n",
    "resource=urllib.urlopen('http://s2.onlineshoes.com/images/br005/27957_120_45.jpg')\n",
    "output=open(\"Shoe.jpg\",\"wb\")\n",
    "output.write(resource.read())\n",
    "output.close()\n",
    "! rm Shoe.jpg\n",
    "\n",
    "OSs='http://www.onlineshoes.com/mens-shoes-list_ct1/'\n",
    "MensShoes=pd.DataFrame(columns=['image','category','name','price','sale_price','original_price'])\n",
    "\n",
    "for I in range (1,2):\n",
    "    OSs_URL=OSs+str(I)+'/60'\n",
    "    r=requests.get(OSs_URL)\n",
    "    soup=BeautifulSoup(r.text,\"html\")\n",
    "    soups=soup.select('a.product-thumb')\n",
    "    \n",
    "    for i in range(0,60):\n",
    "        image = soups[i].select('img')\n",
    "        category=soups[i].select('h6.product-category')\n",
    "        name=soups[i].select('span.product-name')\n",
    "        price=soups[i].select('span.product-price')\n",
    "        sale_price=soups[i].select('span.sale-price')\n",
    "        original_price=soups[i].select('span.original-price')\n",
    "        a=''\n",
    "        b=''\n",
    "        c=''\n",
    "        d=''\n",
    "        e=''\n",
    "        f=''\n",
    "        try:\n",
    "            a=image[0]['src']\n",
    "        except:\n",
    "            pass\n",
    "        try:\n",
    "            b=category[0].text.strip()\n",
    "        except:\n",
    "            pass\n",
    "        try:\n",
    "            c=name[0].text.strip()\n",
    "        except:\n",
    "            pass\n",
    "        try:\n",
    "            d=price[0].text.strip()\n",
    "        except:\n",
    "            pass\n",
    "        try:\n",
    "            e=sale_price[0].text.strip()\n",
    "        except:\n",
    "            pass\n",
    "        try:\n",
    "            f=original_price[0].text.strip()\n",
    "        except:\n",
    "            pass\n",
    "                  \n",
    "        MensShoes.loc[len(MensShoes)]=[a,b,c,d,e,f]            \n"
   ]
  },
  {
   "cell_type": "code",
   "execution_count": 4,
   "metadata": {
    "collapsed": false
   },
   "outputs": [
    {
     "data": {
      "text/html": [
       "<div>\n",
       "<table border=\"1\" class=\"dataframe\">\n",
       "  <thead>\n",
       "    <tr style=\"text-align: right;\">\n",
       "      <th></th>\n",
       "      <th>image</th>\n",
       "      <th>category</th>\n",
       "      <th>name</th>\n",
       "      <th>price</th>\n",
       "      <th>sale_price</th>\n",
       "      <th>original_price</th>\n",
       "    </tr>\n",
       "  </thead>\n",
       "  <tbody>\n",
       "    <tr>\n",
       "      <th>0</th>\n",
       "      <td>http://s2.onlineshoes.com/images/br008/mens-ne...</td>\n",
       "      <td>Men's New Balance</td>\n",
       "      <td>MW577 - Hook &amp; Loop</td>\n",
       "      <td></td>\n",
       "      <td>$66.99</td>\n",
       "      <td>$76.95</td>\n",
       "    </tr>\n",
       "    <tr>\n",
       "      <th>1</th>\n",
       "      <td>http://s3.onlineshoes.com/images/br008/mens-ne...</td>\n",
       "      <td>Men's New Balance</td>\n",
       "      <td>MX608v4</td>\n",
       "      <td></td>\n",
       "      <td>$59.99</td>\n",
       "      <td>$69.95</td>\n",
       "    </tr>\n",
       "  </tbody>\n",
       "</table>\n",
       "</div>"
      ],
      "text/plain": [
       "                                               image           category  \\\n",
       "0  http://s2.onlineshoes.com/images/br008/mens-ne...  Men's New Balance   \n",
       "1  http://s3.onlineshoes.com/images/br008/mens-ne...  Men's New Balance   \n",
       "\n",
       "                  name price sale_price original_price  \n",
       "0  MW577 - Hook & Loop           $66.99         $76.95  \n",
       "1              MX608v4           $59.99         $69.95  "
      ]
     },
     "execution_count": 4,
     "metadata": {},
     "output_type": "execute_result"
    }
   ],
   "source": [
    "MensShoes.head(2)"
   ]
  },
  {
   "cell_type": "code",
   "execution_count": 5,
   "metadata": {
    "collapsed": true
   },
   "outputs": [],
   "source": [
    "MensShoes.to_csv('MensShoes.csv',encoding='utf-8')"
   ]
  },
  {
   "cell_type": "code",
   "execution_count": 7,
   "metadata": {
    "collapsed": false
   },
   "outputs": [],
   "source": [
    "from bs4 import BeautifulSoup\n",
    "import pandas as pd\n",
    "import numpy as np\n",
    "from scipy import misc\n",
    "import requests\n",
    "import urllib\n",
    "\n",
    "\n",
    "OSs='http://www.onlineshoes.com/womens-shoes-list_ct1/'\n",
    "WomensShoes=pd.DataFrame(columns=['image','category','name','price','sale_price','original_price'])\n",
    "\n",
    "for I in range (1,2):\n",
    "    OSs_URL=OSs+str(I)+'/60'\n",
    "    r=requests.get(OSs_URL)\n",
    "    soup=BeautifulSoup(r.text,\"html\")\n",
    "    soups=soup.select('a.product-thumb')\n",
    "    \n",
    "    for i in range(0,60):\n",
    "        image = soups[i].select('img')\n",
    "        category=soups[i].select('h6.product-category')\n",
    "        name=soups[i].select('span.product-name')\n",
    "        price=soups[i].select('span.product-price')\n",
    "        sale_price=soups[i].select('span.sale-price')\n",
    "        original_price=soups[i].select('span.original-price')\n",
    "        a=''\n",
    "        b=''\n",
    "        c=''\n",
    "        d=''\n",
    "        e=''\n",
    "        f=''\n",
    "        try:\n",
    "            a=image[0]['src']\n",
    "        except:\n",
    "            pass\n",
    "        try:\n",
    "            b=category[0].text.strip()\n",
    "        except:\n",
    "            pass\n",
    "        try:\n",
    "            c=name[0].text.strip()\n",
    "        except:\n",
    "            pass\n",
    "        try:\n",
    "            d=price[0].text.strip()\n",
    "        except:\n",
    "            pass\n",
    "        try:\n",
    "            e=sale_price[0].text.strip()\n",
    "        except:\n",
    "            pass\n",
    "        try:\n",
    "            f=original_price[0].text.strip()\n",
    "        except:\n",
    "            pass\n",
    "                  \n",
    "        WomensShoes.loc[len(WomensShoes)]=[a,b,c,d,e,f]            \n"
   ]
  },
  {
   "cell_type": "code",
   "execution_count": 8,
   "metadata": {
    "collapsed": false
   },
   "outputs": [],
   "source": [
    "WomensShoes.to_csv('WomensShoes.csv',encoding='utf-8')"
   ]
  },
  {
   "cell_type": "code",
   "execution_count": 9,
   "metadata": {
    "collapsed": true
   },
   "outputs": [],
   "source": [
    "DS=pd.read_csv('WomensShoes.csv')"
   ]
  },
  {
   "cell_type": "code",
   "execution_count": 10,
   "metadata": {
    "collapsed": false
   },
   "outputs": [
    {
     "data": {
      "text/html": [
       "<div>\n",
       "<table border=\"1\" class=\"dataframe\">\n",
       "  <thead>\n",
       "    <tr style=\"text-align: right;\">\n",
       "      <th></th>\n",
       "      <th>Unnamed: 0</th>\n",
       "      <th>image</th>\n",
       "      <th>category</th>\n",
       "      <th>name</th>\n",
       "      <th>price</th>\n",
       "      <th>sale_price</th>\n",
       "      <th>original_price</th>\n",
       "    </tr>\n",
       "  </thead>\n",
       "  <tbody>\n",
       "    <tr>\n",
       "      <th>0</th>\n",
       "      <td>0</td>\n",
       "      <td>http://s1.onlineshoes.com/images/br008/womens-...</td>\n",
       "      <td>Women's New Balance</td>\n",
       "      <td>WW577</td>\n",
       "      <td>NaN</td>\n",
       "      <td>$65.99</td>\n",
       "      <td>$76.95</td>\n",
       "    </tr>\n",
       "    <tr>\n",
       "      <th>1</th>\n",
       "      <td>1</td>\n",
       "      <td>http://s2.onlineshoes.com/images/br037/213422_...</td>\n",
       "      <td>Women's Birkenstock</td>\n",
       "      <td>Arizona</td>\n",
       "      <td>$124.95</td>\n",
       "      <td>NaN</td>\n",
       "      <td>NaN</td>\n",
       "    </tr>\n",
       "  </tbody>\n",
       "</table>\n",
       "</div>"
      ],
      "text/plain": [
       "   Unnamed: 0                                              image  \\\n",
       "0           0  http://s1.onlineshoes.com/images/br008/womens-...   \n",
       "1           1  http://s2.onlineshoes.com/images/br037/213422_...   \n",
       "\n",
       "              category     name    price sale_price original_price  \n",
       "0  Women's New Balance    WW577      NaN     $65.99         $76.95  \n",
       "1  Women's Birkenstock  Arizona  $124.95        NaN            NaN  "
      ]
     },
     "execution_count": 10,
     "metadata": {},
     "output_type": "execute_result"
    }
   ],
   "source": [
    "DS.head(2)"
   ]
  },
  {
   "cell_type": "code",
   "execution_count": 12,
   "metadata": {
    "collapsed": false
   },
   "outputs": [],
   "source": [
    "from bs4 import BeautifulSoup\n",
    "import pandas as pd\n",
    "import numpy as np\n",
    "from scipy import misc\n",
    "import requests\n",
    "import urllib\n",
    "\n",
    "\n",
    "OSs='http://www.onlineshoes.com/shoes-child-list_ct1,ag2/'\n",
    "KidsShoes=pd.DataFrame(columns=['image','category','name','price','sale_price','original_price'])\n",
    "\n",
    "for I in range (1,2):\n",
    "    OSs_URL=OSs+str(I)+'/60'\n",
    "    r=requests.get(OSs_URL)\n",
    "    soup=BeautifulSoup(r.text,\"html\")\n",
    "    soups=soup.select('a.product-thumb')\n",
    "    \n",
    "    for i in range(0,60):\n",
    "        image = soups[i].select('img')\n",
    "        category=soups[i].select('h6.product-category')\n",
    "        name=soups[i].select('span.product-name')\n",
    "        price=soups[i].select('span.product-price')\n",
    "        sale_price=soups[i].select('span.sale-price')\n",
    "        original_price=soups[i].select('span.original-price')\n",
    "        a=''\n",
    "        b=''\n",
    "        c=''\n",
    "        d=''\n",
    "        e=''\n",
    "        f=''\n",
    "        try:\n",
    "            a=image[0]['src']\n",
    "        except:\n",
    "            pass\n",
    "        try:\n",
    "            b=category[0].text.strip()\n",
    "        except:\n",
    "            pass\n",
    "        try:\n",
    "            c=name[0].text.strip()\n",
    "        except:\n",
    "            pass\n",
    "        try:\n",
    "            d=price[0].text.strip()\n",
    "        except:\n",
    "            pass\n",
    "        try:\n",
    "            e=sale_price[0].text.strip()\n",
    "        except:\n",
    "            pass\n",
    "        try:\n",
    "            f=original_price[0].text.strip()\n",
    "        except:\n",
    "            pass\n",
    "                  \n",
    "        KidsShoes.loc[len(KidsShoes)]=[a,b,c,d,e,f]   "
   ]
  },
  {
   "cell_type": "code",
   "execution_count": 13,
   "metadata": {
    "collapsed": true
   },
   "outputs": [],
   "source": [
    "KidsShoes.to_csv('KidsShoes.csv',encoding='utf-8')"
   ]
  },
  {
   "cell_type": "code",
   "execution_count": 14,
   "metadata": {
    "collapsed": false
   },
   "outputs": [],
   "source": [
    "df=pd.read_csv('KidsShoes.csv').head()"
   ]
  },
  {
   "cell_type": "code",
   "execution_count": 15,
   "metadata": {
    "collapsed": false
   },
   "outputs": [
    {
     "data": {
      "text/plain": [
       "'http://s2.onlineshoes.com/images/br009/307630_120_45.jpg'"
      ]
     },
     "execution_count": 15,
     "metadata": {},
     "output_type": "execute_result"
    }
   ],
   "source": [
    "df['image'][0]"
   ]
  },
  {
   "cell_type": "code",
   "execution_count": 17,
   "metadata": {
    "collapsed": false
   },
   "outputs": [],
   "source": [
    "from bs4 import BeautifulSoup\n",
    "import pandas as pd\n",
    "import numpy as np\n",
    "from scipy import misc\n",
    "import requests\n",
    "import urllib\n",
    "\n",
    "\n",
    "OSs='http://www.onlineshoes.com/womens-shoes-list_ct1/'\n",
    "WomensShoes=pd.DataFrame(columns=['image','category','name','price','sale_price','original_price'])\n",
    "\n",
    "for I in range (1,2):\n",
    "    OSs_URL=OSs+str(I)+'/60'\n",
    "    r=requests.get(OSs_URL)\n",
    "    soup=BeautifulSoup(r.text,\"html\")\n",
    "    soups=soup.select('a.product-thumb')\n",
    "    \n",
    "    for i in range(0,60):\n",
    "        image = soups[i].select('img')\n",
    "        category=soups[i].select('h6.product-category')\n",
    "        name=soups[i].select('span.product-name')\n",
    "        price=soups[i].select('span.product-price')\n",
    "        sale_price=soups[i].select('span.sale-price')\n",
    "        original_price=soups[i].select('span.original-price')\n",
    "        a=''\n",
    "        b=''\n",
    "        c=''\n",
    "        d=''\n",
    "        e=''\n",
    "        f=''\n",
    "        try:\n",
    "            a=image[0]['src']\n",
    "        except:\n",
    "            pass\n",
    "        try:\n",
    "            b=category[0].text.strip()\n",
    "        except:\n",
    "            pass\n",
    "        try:\n",
    "            c=name[0].text.strip()\n",
    "        except:\n",
    "            pass\n",
    "        try:\n",
    "            d=price[0].text.strip()\n",
    "        except:\n",
    "            pass\n",
    "        try:\n",
    "            e=sale_price[0].text.strip()\n",
    "        except:\n",
    "            pass\n",
    "        try:\n",
    "            f=original_price[0].text.strip()\n",
    "        except:\n",
    "            pass\n",
    "                  \n",
    "        WomensShoes.loc[len(WomensShoes)]=[a,b,c,d,e,f]  "
   ]
  },
  {
   "cell_type": "code",
   "execution_count": null,
   "metadata": {
    "collapsed": true
   },
   "outputs": [],
   "source": []
  }
 ],
 "metadata": {
  "kernelspec": {
   "display_name": "Python 2",
   "language": "python",
   "name": "python2"
  },
  "language_info": {
   "codemirror_mode": {
    "name": "ipython",
    "version": 2
   },
   "file_extension": ".py",
   "mimetype": "text/x-python",
   "name": "python",
   "nbconvert_exporter": "python",
   "pygments_lexer": "ipython2",
   "version": "2.7.11"
  }
 },
 "nbformat": 4,
 "nbformat_minor": 0
}
